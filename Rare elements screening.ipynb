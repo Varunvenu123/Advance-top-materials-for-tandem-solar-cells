{
 "cells": [
  {
   "cell_type": "code",
   "execution_count": 15,
   "id": "c05fd353-297c-442b-9f6a-7024676a2bba",
   "metadata": {},
   "outputs": [],
   "source": [
    "import pandas as pd"
   ]
  },
  {
   "cell_type": "code",
   "execution_count": 16,
   "id": "13d96cb3-01dc-4493-91c9-f5796dfafd17",
   "metadata": {},
   "outputs": [],
   "source": [
    "new2_df = pd.read_csv('preciousmaterials_data.csv')"
   ]
  },
  {
   "cell_type": "code",
   "execution_count": 17,
   "id": "ea811ac0-2d07-47e2-ac15-a556c4fd7392",
   "metadata": {},
   "outputs": [],
   "source": [
    "rareelements = ['Sc','Y','La','Ce','Pr','Nd','Sm','Eu','Gd','Tb','Dy','Ho','Er','Tm','Yb','Lu']"
   ]
  },
  {
   "cell_type": "code",
   "execution_count": 18,
   "id": "1f6ad82f-b468-4030-b12c-17159a9ec4ab",
   "metadata": {},
   "outputs": [],
   "source": [
    "pattern = '|'.join(rareelements)"
   ]
  },
  {
   "cell_type": "code",
   "execution_count": 19,
   "id": "19c07442-9d27-48ad-ba79-e0ba4b4e7e7d",
   "metadata": {},
   "outputs": [],
   "source": [
    "filtered_elements1_df = new2_df[new2_df['pretty_formula'].str.contains(pattern)]"
   ]
  },
  {
   "cell_type": "code",
   "execution_count": 20,
   "id": "12b912d3-d763-43e4-a890-1c0f8e5d06fa",
   "metadata": {},
   "outputs": [],
   "source": [
    "filtered_elements1_df.to_csv('rareelements_data.csv', index=False)"
   ]
  },
  {
   "cell_type": "code",
   "execution_count": 21,
   "id": "aeede6e5-0a1c-4ee8-ac64-39ab464583db",
   "metadata": {},
   "outputs": [
    {
     "name": "stdout",
     "output_type": "stream",
     "text": [
      "    pretty_formula material_id  band_gap\n",
      "1          Sm5AgS8    mp-37923    1.6385\n",
      "10       K2TbAuCl6  mp-1112060    1.9648\n",
      "15         TmAgSe2  mp-1188652    1.7247\n",
      "35        Rb2YAuF6  mp-1111399    1.5261\n",
      "56       LaTa2AgO7  mp-1222747    1.5627\n",
      "..             ...         ...       ...\n",
      "636      La3AgSnS7   mp-542888    1.9523\n",
      "643      Nd2ZnPtO6  mp-1209914    1.7003\n",
      "645    GdNb5Ag2O15  mp-1212605    1.9167\n",
      "649       BaY2PdO5     mp-9656    1.7880\n",
      "663      Na2ScAgF6  mp-1111316    1.7862\n",
      "\n",
      "[94 rows x 3 columns]\n"
     ]
    }
   ],
   "source": [
    "print(filtered_elements1_df)"
   ]
  },
  {
   "cell_type": "code",
   "execution_count": null,
   "id": "f2e26a32-7ac2-44da-90f5-85e4b19efaaa",
   "metadata": {},
   "outputs": [],
   "source": []
  }
 ],
 "metadata": {
  "kernelspec": {
   "display_name": "Python 3 (ipykernel)",
   "language": "python",
   "name": "python3"
  },
  "language_info": {
   "codemirror_mode": {
    "name": "ipython",
    "version": 3
   },
   "file_extension": ".py",
   "mimetype": "text/x-python",
   "name": "python",
   "nbconvert_exporter": "python",
   "pygments_lexer": "ipython3",
   "version": "3.8.13"
  }
 },
 "nbformat": 4,
 "nbformat_minor": 5
}
