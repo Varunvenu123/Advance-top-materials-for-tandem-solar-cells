{
 "cells": [
  {
   "cell_type": "code",
   "execution_count": 5,
   "id": "5fd09026-b80f-4ac1-b74b-af92c44c0110",
   "metadata": {},
   "outputs": [
    {
     "name": "stdout",
     "output_type": "stream",
     "text": [
      "Requirement already satisfied: mp-api in c:\\users\\varun\\appdata\\roaming\\jupyterlab-desktop\\jlab_server\\lib\\site-packages (0.35.1)\n",
      "Requirement already satisfied: emmet-core>=0.54.0 in c:\\users\\varun\\appdata\\roaming\\jupyterlab-desktop\\jlab_server\\lib\\site-packages (from mp-api) (0.68.0)\n",
      "Requirement already satisfied: requests>=2.23.0 in c:\\users\\varun\\appdata\\roaming\\jupyterlab-desktop\\jlab_server\\lib\\site-packages (from mp-api) (2.28.1)\n",
      "Requirement already satisfied: typing-extensions>=3.7.4.1 in c:\\users\\varun\\appdata\\roaming\\jupyterlab-desktop\\jlab_server\\lib\\site-packages (from mp-api) (4.3.0)\n",
      "Requirement already satisfied: setuptools in c:\\users\\varun\\appdata\\roaming\\jupyterlab-desktop\\jlab_server\\lib\\site-packages (from mp-api) (65.3.0)\n",
      "Requirement already satisfied: pymatgen>=2022.3.7 in c:\\users\\varun\\appdata\\roaming\\jupyterlab-desktop\\jlab_server\\lib\\site-packages (from mp-api) (2023.8.10)\n",
      "Requirement already satisfied: msgpack in c:\\users\\varun\\appdata\\roaming\\jupyterlab-desktop\\jlab_server\\lib\\site-packages (from mp-api) (1.0.8)\n",
      "Requirement already satisfied: monty>=2021.3.12 in c:\\users\\varun\\appdata\\roaming\\jupyterlab-desktop\\jlab_server\\lib\\site-packages (from mp-api) (2023.9.25)\n",
      "Requirement already satisfied: spglib>=2.0.1 in c:\\users\\varun\\appdata\\roaming\\jupyterlab-desktop\\jlab_server\\lib\\site-packages (from emmet-core>=0.54.0->mp-api) (2.3.1)\n",
      "Requirement already satisfied: pybtex~=0.24 in c:\\users\\varun\\appdata\\roaming\\jupyterlab-desktop\\jlab_server\\lib\\site-packages (from emmet-core>=0.54.0->mp-api) (0.24.0)\n",
      "Requirement already satisfied: pydantic<2.0,>=1.10.2 in c:\\users\\varun\\appdata\\roaming\\jupyterlab-desktop\\jlab_server\\lib\\site-packages (from emmet-core>=0.54.0->mp-api) (1.10.14)\n",
      "Requirement already satisfied: tqdm in c:\\users\\varun\\appdata\\roaming\\jupyterlab-desktop\\jlab_server\\lib\\site-packages (from pymatgen>=2022.3.7->mp-api) (4.64.1)\n",
      "Requirement already satisfied: joblib in c:\\users\\varun\\appdata\\roaming\\jupyterlab-desktop\\jlab_server\\lib\\site-packages (from pymatgen>=2022.3.7->mp-api) (1.3.2)\n",
      "Requirement already satisfied: pandas in c:\\users\\varun\\appdata\\roaming\\jupyterlab-desktop\\jlab_server\\lib\\site-packages (from pymatgen>=2022.3.7->mp-api) (1.4.4)\n",
      "Requirement already satisfied: matplotlib>=1.5 in c:\\users\\varun\\appdata\\roaming\\jupyterlab-desktop\\jlab_server\\lib\\site-packages (from pymatgen>=2022.3.7->mp-api) (3.5.3)\n",
      "Requirement already satisfied: sympy in c:\\users\\varun\\appdata\\roaming\\jupyterlab-desktop\\jlab_server\\lib\\site-packages (from pymatgen>=2022.3.7->mp-api) (1.12)\n",
      "Requirement already satisfied: scipy>=1.5.0 in c:\\users\\varun\\appdata\\roaming\\jupyterlab-desktop\\jlab_server\\lib\\site-packages (from pymatgen>=2022.3.7->mp-api) (1.9.1)\n",
      "Requirement already satisfied: tabulate in c:\\users\\varun\\appdata\\roaming\\jupyterlab-desktop\\jlab_server\\lib\\site-packages (from pymatgen>=2022.3.7->mp-api) (0.9.0)\n",
      "Requirement already satisfied: ruamel.yaml>=0.17.0 in c:\\users\\varun\\appdata\\roaming\\jupyterlab-desktop\\jlab_server\\lib\\site-packages (from pymatgen>=2022.3.7->mp-api) (0.18.6)\n",
      "Requirement already satisfied: uncertainties>=3.1.4 in c:\\users\\varun\\appdata\\roaming\\jupyterlab-desktop\\jlab_server\\lib\\site-packages (from pymatgen>=2022.3.7->mp-api) (3.1.7)\n",
      "Requirement already satisfied: numpy>=1.20.1 in c:\\users\\varun\\appdata\\roaming\\jupyterlab-desktop\\jlab_server\\lib\\site-packages (from pymatgen>=2022.3.7->mp-api) (1.23.2)\n",
      "Requirement already satisfied: networkx>=2.2 in c:\\users\\varun\\appdata\\roaming\\jupyterlab-desktop\\jlab_server\\lib\\site-packages (from pymatgen>=2022.3.7->mp-api) (3.1)\n",
      "Requirement already satisfied: palettable>=3.1.1 in c:\\users\\varun\\appdata\\roaming\\jupyterlab-desktop\\jlab_server\\lib\\site-packages (from pymatgen>=2022.3.7->mp-api) (3.3.3)\n",
      "Requirement already satisfied: plotly>=4.5.0 in c:\\users\\varun\\appdata\\roaming\\jupyterlab-desktop\\jlab_server\\lib\\site-packages (from pymatgen>=2022.3.7->mp-api) (5.20.0)\n",
      "Requirement already satisfied: idna<4,>=2.5 in c:\\users\\varun\\appdata\\roaming\\jupyterlab-desktop\\jlab_server\\lib\\site-packages (from requests>=2.23.0->mp-api) (3.3)\n",
      "Requirement already satisfied: charset-normalizer<3,>=2 in c:\\users\\varun\\appdata\\roaming\\jupyterlab-desktop\\jlab_server\\lib\\site-packages (from requests>=2.23.0->mp-api) (2.1.1)\n",
      "Requirement already satisfied: certifi>=2017.4.17 in c:\\users\\varun\\appdata\\roaming\\jupyterlab-desktop\\jlab_server\\lib\\site-packages (from requests>=2.23.0->mp-api) (2022.6.15)\n",
      "Requirement already satisfied: urllib3<1.27,>=1.21.1 in c:\\users\\varun\\appdata\\roaming\\jupyterlab-desktop\\jlab_server\\lib\\site-packages (from requests>=2.23.0->mp-api) (1.26.11)\n",
      "Requirement already satisfied: python-dateutil>=2.7 in c:\\users\\varun\\appdata\\roaming\\jupyterlab-desktop\\jlab_server\\lib\\site-packages (from matplotlib>=1.5->pymatgen>=2022.3.7->mp-api) (2.8.2)\n",
      "Requirement already satisfied: pillow>=6.2.0 in c:\\users\\varun\\appdata\\roaming\\jupyterlab-desktop\\jlab_server\\lib\\site-packages (from matplotlib>=1.5->pymatgen>=2022.3.7->mp-api) (9.2.0)\n",
      "Requirement already satisfied: kiwisolver>=1.0.1 in c:\\users\\varun\\appdata\\roaming\\jupyterlab-desktop\\jlab_server\\lib\\site-packages (from matplotlib>=1.5->pymatgen>=2022.3.7->mp-api) (1.4.4)\n",
      "Requirement already satisfied: cycler>=0.10 in c:\\users\\varun\\appdata\\roaming\\jupyterlab-desktop\\jlab_server\\lib\\site-packages (from matplotlib>=1.5->pymatgen>=2022.3.7->mp-api) (0.11.0)\n",
      "Requirement already satisfied: packaging>=20.0 in c:\\users\\varun\\appdata\\roaming\\jupyterlab-desktop\\jlab_server\\lib\\site-packages (from matplotlib>=1.5->pymatgen>=2022.3.7->mp-api) (21.3)\n",
      "Requirement already satisfied: pyparsing>=2.2.1 in c:\\users\\varun\\appdata\\roaming\\jupyterlab-desktop\\jlab_server\\lib\\site-packages (from matplotlib>=1.5->pymatgen>=2022.3.7->mp-api) (3.0.9)\n",
      "Requirement already satisfied: fonttools>=4.22.0 in c:\\users\\varun\\appdata\\roaming\\jupyterlab-desktop\\jlab_server\\lib\\site-packages (from matplotlib>=1.5->pymatgen>=2022.3.7->mp-api) (4.37.1)\n",
      "Requirement already satisfied: tenacity>=6.2.0 in c:\\users\\varun\\appdata\\roaming\\jupyterlab-desktop\\jlab_server\\lib\\site-packages (from plotly>=4.5.0->pymatgen>=2022.3.7->mp-api) (8.2.3)\n",
      "Requirement already satisfied: PyYAML>=3.01 in c:\\users\\varun\\appdata\\roaming\\jupyterlab-desktop\\jlab_server\\lib\\site-packages (from pybtex~=0.24->emmet-core>=0.54.0->mp-api) (6.0.1)\n",
      "Requirement already satisfied: six in c:\\users\\varun\\appdata\\roaming\\jupyterlab-desktop\\jlab_server\\lib\\site-packages (from pybtex~=0.24->emmet-core>=0.54.0->mp-api) (1.16.0)\n",
      "Requirement already satisfied: latexcodec>=1.0.4 in c:\\users\\varun\\appdata\\roaming\\jupyterlab-desktop\\jlab_server\\lib\\site-packages (from pybtex~=0.24->emmet-core>=0.54.0->mp-api) (3.0.0)\n",
      "Requirement already satisfied: ruamel.yaml.clib>=0.2.7 in c:\\users\\varun\\appdata\\roaming\\jupyterlab-desktop\\jlab_server\\lib\\site-packages (from ruamel.yaml>=0.17.0->pymatgen>=2022.3.7->mp-api) (0.2.8)\n",
      "Requirement already satisfied: future in c:\\users\\varun\\appdata\\roaming\\jupyterlab-desktop\\jlab_server\\lib\\site-packages (from uncertainties>=3.1.4->pymatgen>=2022.3.7->mp-api) (1.0.0)\n",
      "Requirement already satisfied: pytz>=2020.1 in c:\\users\\varun\\appdata\\roaming\\jupyterlab-desktop\\jlab_server\\lib\\site-packages (from pandas->pymatgen>=2022.3.7->mp-api) (2022.2.1)\n",
      "Requirement already satisfied: mpmath>=0.19 in c:\\users\\varun\\appdata\\roaming\\jupyterlab-desktop\\jlab_server\\lib\\site-packages (from sympy->pymatgen>=2022.3.7->mp-api) (1.3.0)\n",
      "Requirement already satisfied: colorama in c:\\users\\varun\\appdata\\roaming\\jupyterlab-desktop\\jlab_server\\lib\\site-packages (from tqdm->pymatgen>=2022.3.7->mp-api) (0.4.5)\n"
     ]
    }
   ],
   "source": [
    "!pip install mp-api"
   ]
  },
  {
   "cell_type": "code",
   "execution_count": 6,
   "id": "fc612363-729d-440c-be5b-3cef5cb738c2",
   "metadata": {},
   "outputs": [],
   "source": [
    "import pandas as pd\n",
    "from mp_api.client import MPRester"
   ]
  },
  {
   "cell_type": "code",
   "execution_count": 7,
   "id": "ab4564e2-6253-44af-b4ca-b9b5e26fc48a",
   "metadata": {},
   "outputs": [
    {
     "name": "stderr",
     "output_type": "stream",
     "text": [
      "C:\\Users\\varun\\AppData\\Roaming\\jupyterlab-desktop\\jlab_server\\lib\\site-packages\\mp_api\\client\\mprester.py:193: UserWarning: mpcontribs-client not installed. Install the package to query MPContribs data, or construct pourbaix diagrams: 'pip install mpcontribs-client'\n",
      "  warnings.warn(\n",
      "C:\\Users\\varun\\AppData\\Local\\Temp\\ipykernel_2988\\2245251345.py:5: DeprecationWarning: Accessing summary data through MPRester.summary is deprecated. Please use MPRester.materials.summary instead.\n",
      "  materials = mpr.summary.search(fields=[\"material_id\", \"formula_pretty\", \"band_gap\"])\n"
     ]
    },
    {
     "data": {
      "application/vnd.jupyter.widget-view+json": {
       "model_id": "8f8e3312432b479f95ecd912b88f31fc",
       "version_major": 2,
       "version_minor": 0
      },
      "text/plain": [
       "Retrieving SummaryDoc documents:   0%|          | 0/153235 [00:00<?, ?it/s]"
      ]
     },
     "metadata": {},
     "output_type": "display_data"
    },
    {
     "name": "stdout",
     "output_type": "stream",
     "text": [
      "                                     0                          1  \\\n",
      "0       (formula_pretty, Cs3Nd(MoO4)3)   (material_id, mp-573369)   \n",
      "1          (formula_pretty, Ba(PdS2)2)    (material_id, mp-28967)   \n",
      "2    (formula_pretty, Na7Ta3Zn(SiO4)6)  (material_id, mp-2712904)   \n",
      "3           (formula_pretty, TiZnBiO5)  (material_id, mp-1042447)   \n",
      "4  (formula_pretty, Na2YNb3Si4(SO12)2)  (material_id, mp-2715697)   \n",
      "\n",
      "                                2  \\\n",
      "0              (band_gap, 3.7419)   \n",
      "1  (band_gap, 0.7791999999999999)   \n",
      "2              (band_gap, 2.5286)   \n",
      "3                 (band_gap, 0.0)   \n",
      "4              (band_gap, 1.8105)   \n",
      "\n",
      "                                                   3  \n",
      "0  (fields_not_requested, [builder_meta, nsites, ...  \n",
      "1  (fields_not_requested, [builder_meta, nsites, ...  \n",
      "2  (fields_not_requested, [builder_meta, nsites, ...  \n",
      "3  (fields_not_requested, [builder_meta, nsites, ...  \n",
      "4  (fields_not_requested, [builder_meta, nsites, ...  \n"
     ]
    }
   ],
   "source": [
    "mpr = MPRester(\"au64jB4twTCfy9Iupahu3vsjxl3J7PVI\")\n",
    "criteria = {\"elements\": {\"$in\":[\"Li\", \"Na\", \"K\"]}, \"nelements\": {\"$gte\": 2}}\n",
    "properties = [\"material_id\", \"pretty_formula\", \"band_gap\"]\n",
    "\n",
    "materials = mpr.summary.search(fields=[\"material_id\", \"formula_pretty\", \"band_gap\"])\n",
    "\n",
    "df = pd.DataFrame(materials)\n",
    "print(df.head())\n",
    "df.to_csv('materials.csv')"
   ]
  },
  {
   "cell_type": "code",
   "execution_count": 8,
   "id": "b43ec89b-ae9d-416d-9a72-5ccdf6919589",
   "metadata": {},
   "outputs": [],
   "source": [
    "st = df.head(1)\n",
    "new_df = df.iloc[:,[0,1, 2]]"
   ]
  },
  {
   "cell_type": "code",
   "execution_count": 9,
   "id": "d10a8cc1-ee1c-4362-bb52-8bdbb5296fb5",
   "metadata": {},
   "outputs": [
    {
     "data": {
      "text/html": [
       "<div>\n",
       "<style scoped>\n",
       "    .dataframe tbody tr th:only-of-type {\n",
       "        vertical-align: middle;\n",
       "    }\n",
       "\n",
       "    .dataframe tbody tr th {\n",
       "        vertical-align: top;\n",
       "    }\n",
       "\n",
       "    .dataframe thead th {\n",
       "        text-align: right;\n",
       "    }\n",
       "</style>\n",
       "<table border=\"1\" class=\"dataframe\">\n",
       "  <thead>\n",
       "    <tr style=\"text-align: right;\">\n",
       "      <th></th>\n",
       "      <th>pretty_formula</th>\n",
       "      <th>material_id</th>\n",
       "      <th>band_gap</th>\n",
       "    </tr>\n",
       "  </thead>\n",
       "  <tbody>\n",
       "    <tr>\n",
       "      <th>0</th>\n",
       "      <td>Cs3Nd(MoO4)3</td>\n",
       "      <td>mp-573369</td>\n",
       "      <td>3.7419</td>\n",
       "    </tr>\n",
       "    <tr>\n",
       "      <th>1</th>\n",
       "      <td>Ba(PdS2)2</td>\n",
       "      <td>mp-28967</td>\n",
       "      <td>0.7792</td>\n",
       "    </tr>\n",
       "    <tr>\n",
       "      <th>2</th>\n",
       "      <td>Na7Ta3Zn(SiO4)6</td>\n",
       "      <td>mp-2712904</td>\n",
       "      <td>2.5286</td>\n",
       "    </tr>\n",
       "    <tr>\n",
       "      <th>3</th>\n",
       "      <td>TiZnBiO5</td>\n",
       "      <td>mp-1042447</td>\n",
       "      <td>0.0000</td>\n",
       "    </tr>\n",
       "    <tr>\n",
       "      <th>4</th>\n",
       "      <td>Na2YNb3Si4(SO12)2</td>\n",
       "      <td>mp-2715697</td>\n",
       "      <td>1.8105</td>\n",
       "    </tr>\n",
       "    <tr>\n",
       "      <th>...</th>\n",
       "      <td>...</td>\n",
       "      <td>...</td>\n",
       "      <td>...</td>\n",
       "    </tr>\n",
       "    <tr>\n",
       "      <th>153230</th>\n",
       "      <td>ZnGe(SO4)3</td>\n",
       "      <td>mp-2713873</td>\n",
       "      <td>1.5473</td>\n",
       "    </tr>\n",
       "    <tr>\n",
       "      <th>153231</th>\n",
       "      <td>Na5Cu3(PO4)4</td>\n",
       "      <td>mp-1386638</td>\n",
       "      <td>0.0000</td>\n",
       "    </tr>\n",
       "    <tr>\n",
       "      <th>153232</th>\n",
       "      <td>MgTe6Mo2(WS)2</td>\n",
       "      <td>mp-2219998</td>\n",
       "      <td>0.0000</td>\n",
       "    </tr>\n",
       "    <tr>\n",
       "      <th>153233</th>\n",
       "      <td>K4U5B2O21</td>\n",
       "      <td>mp-1224701</td>\n",
       "      <td>0.1467</td>\n",
       "    </tr>\n",
       "    <tr>\n",
       "      <th>153234</th>\n",
       "      <td>NbTc2Ge</td>\n",
       "      <td>mp-977409</td>\n",
       "      <td>0.0000</td>\n",
       "    </tr>\n",
       "  </tbody>\n",
       "</table>\n",
       "<p>153235 rows × 3 columns</p>\n",
       "</div>"
      ],
      "text/plain": [
       "           pretty_formula material_id  band_gap\n",
       "0            Cs3Nd(MoO4)3   mp-573369    3.7419\n",
       "1               Ba(PdS2)2    mp-28967    0.7792\n",
       "2         Na7Ta3Zn(SiO4)6  mp-2712904    2.5286\n",
       "3                TiZnBiO5  mp-1042447    0.0000\n",
       "4       Na2YNb3Si4(SO12)2  mp-2715697    1.8105\n",
       "...                   ...         ...       ...\n",
       "153230         ZnGe(SO4)3  mp-2713873    1.5473\n",
       "153231       Na5Cu3(PO4)4  mp-1386638    0.0000\n",
       "153232      MgTe6Mo2(WS)2  mp-2219998    0.0000\n",
       "153233          K4U5B2O21  mp-1224701    0.1467\n",
       "153234            NbTc2Ge   mp-977409    0.0000\n",
       "\n",
       "[153235 rows x 3 columns]"
      ]
     },
     "execution_count": 9,
     "metadata": {},
     "output_type": "execute_result"
    }
   ],
   "source": [
    "\n",
    "new_df[\"pretty_formula\"] = new_df[0].apply(lambda x: x[1])\n",
    "\n",
    "new_df[\"material_id\"] = new_df[1].apply(lambda x: x[1])\n",
    "\n",
    "new_df[\"band_gap\"] = new_df[2].apply(lambda x: x[1])\n",
    "new_df = new_df.iloc[:,[3, 4, 5]]\n",
    "new_df\n"
   ]
  },
  {
   "cell_type": "code",
   "execution_count": 10,
   "id": "316325db-ae5e-42e4-94c8-32fd20b9f78a",
   "metadata": {},
   "outputs": [],
   "source": [
    "new_df['band_gap'] = pd.to_numeric(new_df['band_gap'], errors='coerce')"
   ]
  },
  {
   "cell_type": "code",
   "execution_count": 11,
   "id": "aa0b7b99-371e-4480-af86-57d025f0bfd3",
   "metadata": {},
   "outputs": [],
   "source": [
    "new_df = new_df.dropna(subset=['band_gap'])"
   ]
  },
  {
   "cell_type": "code",
   "execution_count": 12,
   "id": "3fa8aff0-b864-41e5-b738-382416e42cac",
   "metadata": {},
   "outputs": [],
   "source": [
    "new_df.to_csv('database_data.csv', index=False)"
   ]
  },
  {
   "cell_type": "code",
   "execution_count": 13,
   "id": "038f97e1-8744-4d2e-b78a-67f4949cb2b0",
   "metadata": {},
   "outputs": [],
   "source": [
    "filtered_df = new_df[(new_df['band_gap'] > 1.5) & (new_df['band_gap'] < 2)]"
   ]
  },
  {
   "cell_type": "code",
   "execution_count": 14,
   "id": "b0896630-0093-4e68-adc8-901b9b26d45e",
   "metadata": {},
   "outputs": [
    {
     "name": "stdout",
     "output_type": "stream",
     "text": [
      "           pretty_formula material_id  band_gap\n",
      "4       Na2YNb3Si4(SO12)2  mp-2715697    1.8105\n",
      "7                 Y2MgSe4  mp-1232187    1.8931\n",
      "20              Sr(AsS2)2    mp-36577    1.7212\n",
      "24                KAgTeS3  mp-1211732    1.6838\n",
      "34             LaZnFeMoO6  mp-1044082    1.7032\n",
      "...                   ...         ...       ...\n",
      "153096      K5Na3Ta7NbO24  mp-1076413    1.9600\n",
      "153172              BaI2O   mp-725677    1.7326\n",
      "153174          Li2MnV3O8  mp-1273514    1.6437\n",
      "153213         Fe5(GeO4)3  mp-1213223    1.6987\n",
      "153230         ZnGe(SO4)3  mp-2713873    1.5473\n",
      "\n",
      "[8879 rows x 3 columns]\n"
     ]
    }
   ],
   "source": [
    "print(filtered_df)"
   ]
  },
  {
   "cell_type": "code",
   "execution_count": 77,
   "id": "1f512cec-6bb9-43ec-90a7-947548438c65",
   "metadata": {
    "tags": []
   },
   "outputs": [],
   "source": [
    "preciouselements = ['Ru', 'Rh', 'Pd', 'Ag', 'Os', 'Ir', 'Pt', 'Au']"
   ]
  },
  {
   "cell_type": "code",
   "execution_count": 78,
   "id": "a4e557fd-971d-432d-bb8e-a9b085b312e2",
   "metadata": {},
   "outputs": [],
   "source": [
    "pattern = '|'.join(preciouselements)\n"
   ]
  },
  {
   "cell_type": "code",
   "execution_count": 101,
   "id": "d7a14e88-7323-40a2-8340-e97ab33ae1e5",
   "metadata": {},
   "outputs": [],
   "source": [
    "filtered_elements_df = filtered_df[filtered_df['pretty_formula'].str.contains(pattern)]\n"
   ]
  },
  {
   "cell_type": "code",
   "execution_count": 102,
   "id": "abd7c97f-d6a7-4098-952f-e5397d50c9a9",
   "metadata": {},
   "outputs": [
    {
     "name": "stdout",
     "output_type": "stream",
     "text": [
      "       pretty_formula material_id  band_gap\n",
      "20          Sr(AsS2)2    mp-36577    1.7212\n",
      "24            KAgTeS3  mp-1211732    1.6838\n",
      "60             TiNiO3   mp-698587    1.7082\n",
      "161           Hg2P2S7    mp-27171    1.8095\n",
      "214        Sr5(TiN3)2  mp-1247347    1.8024\n",
      "...               ...         ...       ...\n",
      "153039      KAg3As2S5   mp-561304    1.6897\n",
      "153058      BaU2V2O12  mp-1227825    1.9807\n",
      "153086     CoH8(CO2)4  mp-1200121    1.6046\n",
      "153172          BaI2O   mp-725677    1.7326\n",
      "153174      Li2MnV3O8  mp-1273514    1.6437\n",
      "\n",
      "[4324 rows x 3 columns]\n"
     ]
    }
   ],
   "source": [
    "print(filtered_elements_df)"
   ]
  },
  {
   "cell_type": "code",
   "execution_count": 103,
   "id": "df7a5fa0-bd8c-40c2-be53-0b6552cfceb8",
   "metadata": {},
   "outputs": [],
   "source": [
    "rareelements = ['Sc','Y','La','Ce','Pr','Nd','Sm','Eu','Gd','Tb','Dy','Ho','Er','Tm','Yb','Lu']"
   ]
  },
  {
   "cell_type": "code",
   "execution_count": 93,
   "id": "fe1e2e8b-6db7-43d8-bc19-622e5278c3b3",
   "metadata": {},
   "outputs": [],
   "source": [
    "pattern = '|'.join(rareelements)"
   ]
  },
  {
   "cell_type": "code",
   "execution_count": 104,
   "id": "03a11c44-5bc8-4ee2-8e1b-d43b4f3115ae",
   "metadata": {},
   "outputs": [],
   "source": [
    "filtered_elements_df = filtered_elements_df[filtered_elements_df['pretty_formula'].str.contains(pattern)]"
   ]
  },
  {
   "cell_type": "code",
   "execution_count": 105,
   "id": "8ef90a00-88c9-4566-8c61-f8073c450d03",
   "metadata": {},
   "outputs": [
    {
     "name": "stdout",
     "output_type": "stream",
     "text": [
      "       pretty_formula material_id  band_gap\n",
      "20          Sr(AsS2)2    mp-36577    1.7212\n",
      "24            KAgTeS3  mp-1211732    1.6838\n",
      "60             TiNiO3   mp-698587    1.7082\n",
      "161           Hg2P2S7    mp-27171    1.8095\n",
      "214        Sr5(TiN3)2  mp-1247347    1.8024\n",
      "...               ...         ...       ...\n",
      "153039      KAg3As2S5   mp-561304    1.6897\n",
      "153058      BaU2V2O12  mp-1227825    1.9807\n",
      "153086     CoH8(CO2)4  mp-1200121    1.6046\n",
      "153172          BaI2O   mp-725677    1.7326\n",
      "153174      Li2MnV3O8  mp-1273514    1.6437\n",
      "\n",
      "[4324 rows x 3 columns]\n"
     ]
    }
   ],
   "source": [
    "print(filtered_elements_df)"
   ]
  },
  {
   "cell_type": "code",
   "execution_count": 106,
   "id": "f42398d4-b792-4f7e-b03e-364631bfe7bb",
   "metadata": {},
   "outputs": [],
   "source": [
    "toxicelements = ['Pt', 'Be', 'As', 'Cd', 'Hg', 'Ni', 'U', 'Ti','Co','Cr','Te','Zr','V','Sb','Ba','Hf','Po']"
   ]
  },
  {
   "cell_type": "code",
   "execution_count": 107,
   "id": "07402acc-fa89-4642-97d5-4d4b707f7200",
   "metadata": {},
   "outputs": [],
   "source": [
    "pattern = '|'.join(toxicelements)"
   ]
  },
  {
   "cell_type": "code",
   "execution_count": 108,
   "id": "59b12b48-4c36-4974-bca3-cd26fd7a17d6",
   "metadata": {},
   "outputs": [],
   "source": [
    "filtered_elements_df = filtered_elements_df[filtered_elements_df['pretty_formula'].str.contains(pattern)]"
   ]
  },
  {
   "cell_type": "code",
   "execution_count": 109,
   "id": "bb915697-5666-4f9a-91f9-7f8d965bf649",
   "metadata": {},
   "outputs": [
    {
     "name": "stdout",
     "output_type": "stream",
     "text": [
      "       pretty_formula material_id  band_gap\n",
      "20          Sr(AsS2)2    mp-36577    1.7212\n",
      "24            KAgTeS3  mp-1211732    1.6838\n",
      "60             TiNiO3   mp-698587    1.7082\n",
      "161           Hg2P2S7    mp-27171    1.8095\n",
      "214        Sr5(TiN3)2  mp-1247347    1.8024\n",
      "...               ...         ...       ...\n",
      "153039      KAg3As2S5   mp-561304    1.6897\n",
      "153058      BaU2V2O12  mp-1227825    1.9807\n",
      "153086     CoH8(CO2)4  mp-1200121    1.6046\n",
      "153172          BaI2O   mp-725677    1.7326\n",
      "153174      Li2MnV3O8  mp-1273514    1.6437\n",
      "\n",
      "[4324 rows x 3 columns]\n"
     ]
    }
   ],
   "source": [
    "print(filtered_elements_df)"
   ]
  },
  {
   "cell_type": "code",
   "execution_count": 100,
   "id": "4133422a-61d6-4791-8e6a-a0a9ca6af5da",
   "metadata": {},
   "outputs": [],
   "source": [
    "filtered_elements_df.to_csv('filtered_elements.csv', index=False)"
   ]
  },
  {
   "cell_type": "code",
   "execution_count": null,
   "id": "8731d854-5926-4368-92eb-16014b64a4b3",
   "metadata": {},
   "outputs": [],
   "source": []
  }
 ],
 "metadata": {
  "kernelspec": {
   "display_name": "Python 3 (ipykernel)",
   "language": "python",
   "name": "python3"
  },
  "language_info": {
   "codemirror_mode": {
    "name": "ipython",
    "version": 3
   },
   "file_extension": ".py",
   "mimetype": "text/x-python",
   "name": "python",
   "nbconvert_exporter": "python",
   "pygments_lexer": "ipython3",
   "version": "3.8.13"
  }
 },
 "nbformat": 4,
 "nbformat_minor": 5
}
