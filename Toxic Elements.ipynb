{
 "cells": [
  {
   "cell_type": "code",
   "execution_count": 22,
   "id": "1c757b49-69c4-4342-bae9-fe9f0f65d2c5",
   "metadata": {},
   "outputs": [],
   "source": [
    "import pandas as pd"
   ]
  },
  {
   "cell_type": "code",
   "execution_count": 23,
   "id": "c25d3c87-5e09-41aa-b051-5ea038f8946f",
   "metadata": {},
   "outputs": [],
   "source": [
    "new3_df = pd.read_csv('rareelements_data.csv')"
   ]
  },
  {
   "cell_type": "code",
   "execution_count": 24,
   "id": "3846beb1-7b91-42ea-9449-5f03137e1926",
   "metadata": {},
   "outputs": [],
   "source": [
    "toxicelements = ['Pt', 'Be', 'As', 'Cd', 'Hg', 'Ni', 'U', 'Ti','Co','Cr','Te','Zr','V','Sb','Ba','Hf','Po']"
   ]
  },
  {
   "cell_type": "code",
   "execution_count": 25,
   "id": "feea1628-57e0-4f48-89e9-627b194cf49a",
   "metadata": {},
   "outputs": [],
   "source": [
    "pattern = '|'.join(toxicelements)"
   ]
  },
  {
   "cell_type": "code",
   "execution_count": 26,
   "id": "055a6045-6428-49fe-85a6-d20a21b820be",
   "metadata": {},
   "outputs": [],
   "source": [
    "filtered_elements2_df = new3_df[new3_df['pretty_formula'].str.contains(pattern)]"
   ]
  },
  {
   "cell_type": "code",
   "execution_count": 27,
   "id": "c4b65057-9a58-4461-92ff-2a3c0e316916",
   "metadata": {},
   "outputs": [],
   "source": [
    "new3_df.to_csv('toxicmaterials_data.csv', index=False)"
   ]
  },
  {
   "cell_type": "code",
   "execution_count": 28,
   "id": "977960ca-4389-4d5c-85d4-80fee0217881",
   "metadata": {},
   "outputs": [
    {
     "name": "stdout",
     "output_type": "stream",
     "text": [
      "    pretty_formula material_id  band_gap\n",
      "5         Sc2Pt2O7   mp-778152    1.8009\n",
      "6        BaTb2PdO5     mp-9760    1.8352\n",
      "12       Pr2ZnPtO6  mp-1209351    1.6651\n",
      "17        Ho2Pt2O7   mp-755635    1.5069\n",
      "19    La5Ti2AgS5O7   mp-555253    1.5128\n",
      "22   La2Ti3(AgO5)2     mp-6000    1.9408\n",
      "28       Dy2CoPtO6  mp-1213101    1.7676\n",
      "30        Dy2Pt2O7  mp-1178365    1.5345\n",
      "37  ScCr2Ag(H2O5)2   mp-559606    1.7683\n",
      "39       Nd2NiPtO6  mp-1209936    1.8452\n",
      "48       Ho2CoPtO6  mp-1212356    1.7584\n",
      "52       Pr2NiPtO6  mp-1209764    1.8264\n",
      "54       BaHo2PdO5     mp-9785    1.9438\n",
      "56        Lu2Pt2O7   mp-753414    1.6989\n",
      "64       BaDy2PdO5     mp-9740    1.7856\n",
      "66        BaNdAgS3  mp-1095616    1.6623\n",
      "67       Sm2NiPtO6  mp-1208922    1.6681\n",
      "73       BaLaAgSe3  mp-1101818    1.6435\n",
      "75       Sm2ZnPtO6  mp-1208902    1.7044\n",
      "79       Sm2CoPtO6  mp-1208920    1.7723\n",
      "86        Er2Pt2O7   mp-756440    1.5405\n",
      "90       Nd2ZnPtO6  mp-1209914    1.7003\n",
      "92        BaY2PdO5     mp-9656    1.7880\n"
     ]
    }
   ],
   "source": [
    "print(filtered_elements2_df)"
   ]
  },
  {
   "cell_type": "code",
   "execution_count": null,
   "id": "180ec10a-cf52-4900-b26e-f060047653f8",
   "metadata": {},
   "outputs": [],
   "source": []
  }
 ],
 "metadata": {
  "kernelspec": {
   "display_name": "Python 3 (ipykernel)",
   "language": "python",
   "name": "python3"
  },
  "language_info": {
   "codemirror_mode": {
    "name": "ipython",
    "version": 3
   },
   "file_extension": ".py",
   "mimetype": "text/x-python",
   "name": "python",
   "nbconvert_exporter": "python",
   "pygments_lexer": "ipython3",
   "version": "3.8.13"
  }
 },
 "nbformat": 4,
 "nbformat_minor": 5
}
