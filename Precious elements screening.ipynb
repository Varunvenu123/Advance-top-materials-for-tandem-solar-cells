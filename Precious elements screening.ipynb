{
 "cells": [
  {
   "cell_type": "code",
   "execution_count": 17,
   "id": "581ef9fc-d46e-4f5a-be6d-5322b3ace0f6",
   "metadata": {},
   "outputs": [],
   "source": [
    "import pandas as pd"
   ]
  },
  {
   "cell_type": "code",
   "execution_count": 18,
   "id": "a028db04-32d8-493b-84a3-7070dbf13679",
   "metadata": {},
   "outputs": [],
   "source": [
    "new1_df = pd.read_csv('bandgapfiltered_data.csv')"
   ]
  },
  {
   "cell_type": "code",
   "execution_count": 19,
   "id": "f88d9867-6f72-47c0-a400-9ad40e8f66c0",
   "metadata": {},
   "outputs": [
    {
     "data": {
      "text/html": [
       "<div>\n",
       "<style scoped>\n",
       "    .dataframe tbody tr th:only-of-type {\n",
       "        vertical-align: middle;\n",
       "    }\n",
       "\n",
       "    .dataframe tbody tr th {\n",
       "        vertical-align: top;\n",
       "    }\n",
       "\n",
       "    .dataframe thead th {\n",
       "        text-align: right;\n",
       "    }\n",
       "</style>\n",
       "<table border=\"1\" class=\"dataframe\">\n",
       "  <thead>\n",
       "    <tr style=\"text-align: right;\">\n",
       "      <th></th>\n",
       "      <th>pretty_formula</th>\n",
       "      <th>material_id</th>\n",
       "      <th>band_gap</th>\n",
       "    </tr>\n",
       "  </thead>\n",
       "  <tbody>\n",
       "    <tr>\n",
       "      <th>0</th>\n",
       "      <td>Na2YNb3Si4(SO12)2</td>\n",
       "      <td>mp-2715697</td>\n",
       "      <td>1.8105</td>\n",
       "    </tr>\n",
       "    <tr>\n",
       "      <th>1</th>\n",
       "      <td>Y2MgSe4</td>\n",
       "      <td>mp-1232187</td>\n",
       "      <td>1.8931</td>\n",
       "    </tr>\n",
       "    <tr>\n",
       "      <th>2</th>\n",
       "      <td>Sr(AsS2)2</td>\n",
       "      <td>mp-36577</td>\n",
       "      <td>1.7212</td>\n",
       "    </tr>\n",
       "    <tr>\n",
       "      <th>3</th>\n",
       "      <td>KAgTeS3</td>\n",
       "      <td>mp-1211732</td>\n",
       "      <td>1.6838</td>\n",
       "    </tr>\n",
       "    <tr>\n",
       "      <th>4</th>\n",
       "      <td>LaZnFeMoO6</td>\n",
       "      <td>mp-1044082</td>\n",
       "      <td>1.7032</td>\n",
       "    </tr>\n",
       "    <tr>\n",
       "      <th>...</th>\n",
       "      <td>...</td>\n",
       "      <td>...</td>\n",
       "      <td>...</td>\n",
       "    </tr>\n",
       "    <tr>\n",
       "      <th>8874</th>\n",
       "      <td>K5Na3Ta7NbO24</td>\n",
       "      <td>mp-1076413</td>\n",
       "      <td>1.9600</td>\n",
       "    </tr>\n",
       "    <tr>\n",
       "      <th>8875</th>\n",
       "      <td>BaI2O</td>\n",
       "      <td>mp-725677</td>\n",
       "      <td>1.7326</td>\n",
       "    </tr>\n",
       "    <tr>\n",
       "      <th>8876</th>\n",
       "      <td>Li2MnV3O8</td>\n",
       "      <td>mp-1273514</td>\n",
       "      <td>1.6437</td>\n",
       "    </tr>\n",
       "    <tr>\n",
       "      <th>8877</th>\n",
       "      <td>Fe5(GeO4)3</td>\n",
       "      <td>mp-1213223</td>\n",
       "      <td>1.6987</td>\n",
       "    </tr>\n",
       "    <tr>\n",
       "      <th>8878</th>\n",
       "      <td>ZnGe(SO4)3</td>\n",
       "      <td>mp-2713873</td>\n",
       "      <td>1.5473</td>\n",
       "    </tr>\n",
       "  </tbody>\n",
       "</table>\n",
       "<p>8879 rows × 3 columns</p>\n",
       "</div>"
      ],
      "text/plain": [
       "         pretty_formula material_id  band_gap\n",
       "0     Na2YNb3Si4(SO12)2  mp-2715697    1.8105\n",
       "1               Y2MgSe4  mp-1232187    1.8931\n",
       "2             Sr(AsS2)2    mp-36577    1.7212\n",
       "3               KAgTeS3  mp-1211732    1.6838\n",
       "4            LaZnFeMoO6  mp-1044082    1.7032\n",
       "...                 ...         ...       ...\n",
       "8874      K5Na3Ta7NbO24  mp-1076413    1.9600\n",
       "8875              BaI2O   mp-725677    1.7326\n",
       "8876          Li2MnV3O8  mp-1273514    1.6437\n",
       "8877         Fe5(GeO4)3  mp-1213223    1.6987\n",
       "8878         ZnGe(SO4)3  mp-2713873    1.5473\n",
       "\n",
       "[8879 rows x 3 columns]"
      ]
     },
     "execution_count": 19,
     "metadata": {},
     "output_type": "execute_result"
    }
   ],
   "source": [
    "new1_df\n"
   ]
  },
  {
   "cell_type": "code",
   "execution_count": null,
   "id": "5fd97d10-a59f-49fc-b363-5c311528de14",
   "metadata": {},
   "outputs": [],
   "source": []
  },
  {
   "cell_type": "code",
   "execution_count": 20,
   "id": "1beebf1d-ec8e-46f4-8576-6fd983f4816a",
   "metadata": {},
   "outputs": [],
   "source": [
    "preciouselements = ['Ru', 'Rh', 'Pd', 'Ag', 'Os', 'Ir', 'Pt', 'Au']"
   ]
  },
  {
   "cell_type": "code",
   "execution_count": 21,
   "id": "3222887e-6162-45cd-b8db-bb0d021b6d19",
   "metadata": {},
   "outputs": [],
   "source": [
    "pattern = '|'.join(preciouselements)"
   ]
  },
  {
   "cell_type": "code",
   "execution_count": 22,
   "id": "18fef0ae-b7b3-488e-b03b-cce0e0ffa7a6",
   "metadata": {},
   "outputs": [],
   "source": [
    "filtered_elements_df = new1_df[new1_df['pretty_formula'].str.contains(pattern)]"
   ]
  },
  {
   "cell_type": "code",
   "execution_count": null,
   "id": "e0b1ed6a-9b3a-4517-8039-677edee9a9b4",
   "metadata": {},
   "outputs": [],
   "source": []
  },
  {
   "cell_type": "code",
   "execution_count": 23,
   "id": "79f76e8b-d8e8-46a7-b053-1cf85497dc87",
   "metadata": {},
   "outputs": [],
   "source": [
    "filtered_elements_df.to_csv('preciousmaterials_data.csv', index=False)"
   ]
  },
  {
   "cell_type": "code",
   "execution_count": 24,
   "id": "2cdd2ffb-9a3a-4b80-9c47-32c113d5b2fa",
   "metadata": {},
   "outputs": [
    {
     "name": "stdout",
     "output_type": "stream",
     "text": [
      "        pretty_formula material_id  band_gap\n",
      "3              KAgTeS3  mp-1211732    1.6838\n",
      "8              Sm5AgS8    mp-37923    1.6385\n",
      "43          H4Pd(NO4)2  mp-1193008    1.5881\n",
      "53              AuSCl5    mp-28192    1.5600\n",
      "79            AgPb2Br5   mp-621612    1.9341\n",
      "...                ...         ...       ...\n",
      "8786  K6Al11Si13Ag5O48  mp-1248154    1.7038\n",
      "8790          PtS4N3Cl   mp-557029    1.5036\n",
      "8803       SrAu2(SO4)4  mp-1197529    1.6783\n",
      "8816            OsO3F2    mp-28845    1.9130\n",
      "8871         KAg3As2S5   mp-561304    1.6897\n",
      "\n",
      "[673 rows x 3 columns]\n"
     ]
    }
   ],
   "source": [
    "print(filtered_elements_df)"
   ]
  },
  {
   "cell_type": "code",
   "execution_count": null,
   "id": "42818676-12ab-40b2-b684-8a4c02569cc6",
   "metadata": {},
   "outputs": [],
   "source": []
  },
  {
   "cell_type": "code",
   "execution_count": null,
   "id": "059155d2-490c-482c-a2a4-324f27f5e7dd",
   "metadata": {},
   "outputs": [],
   "source": []
  }
 ],
 "metadata": {
  "kernelspec": {
   "display_name": "Python 3 (ipykernel)",
   "language": "python",
   "name": "python3"
  },
  "language_info": {
   "codemirror_mode": {
    "name": "ipython",
    "version": 3
   },
   "file_extension": ".py",
   "mimetype": "text/x-python",
   "name": "python",
   "nbconvert_exporter": "python",
   "pygments_lexer": "ipython3",
   "version": "3.8.13"
  }
 },
 "nbformat": 4,
 "nbformat_minor": 5
}
